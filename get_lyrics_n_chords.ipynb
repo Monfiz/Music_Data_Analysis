{
 "cells": [
  {
   "cell_type": "markdown",
   "id": "81caade0",
   "metadata": {},
   "source": [
    "# Getting Lyrics & Chords"
   ]
  },
  {
   "cell_type": "code",
   "execution_count": 7,
   "id": "deece21b",
   "metadata": {},
   "outputs": [],
   "source": [
    "import requests"
   ]
  },
  {
   "cell_type": "markdown",
   "id": "b5aa6876",
   "metadata": {},
   "source": [
    "Function to retrieve lyric by artist and title from the [lyrics.ovh API](\n",
    "https://lyricsovh.docs.apiary.io/#reference/0/lyrics-of-a-song/search)"
   ]
  },
  {
   "cell_type": "code",
   "execution_count": 8,
   "id": "5c41ed26",
   "metadata": {},
   "outputs": [],
   "source": [
    "def get_lyrics(artist, title):\n",
    "\n",
    "    url = f'https://api.lyrics.ovh/v1/{artist}/{title}'\n",
    "\n",
    "    r = requests.get(url)\n",
    "\n",
    "    return r.text"
   ]
  },
  {
   "cell_type": "markdown",
   "id": "9c6042b6",
   "metadata": {},
   "source": [
    "Retrieve the artists and titles combination"
   ]
  },
  {
   "cell_type": "code",
   "execution_count": 34,
   "id": "f0c99557",
   "metadata": {},
   "outputs": [],
   "source": [
    "artists = ['Coldplay', 'The Beatles']\n",
    "titles = ['Clocks', 'Hey Jude!']"
   ]
  },
  {
   "cell_type": "markdown",
   "id": "713b425d",
   "metadata": {},
   "source": [
    "Get the lyrics for each artist - title combination"
   ]
  },
  {
   "cell_type": "code",
   "execution_count": 41,
   "id": "fb504c48",
   "metadata": {},
   "outputs": [
    {
     "name": "stdout",
     "output_type": "stream",
     "text": [
      "Wall time: 12.4 s\n"
     ]
    }
   ],
   "source": [
    "%%time\n",
    "\n",
    "lyrics = []\n",
    "\n",
    "for artist, title in zip(artists, titles):\n",
    "    lyrics.append(get_lyrics(artist, title))"
   ]
  },
  {
   "cell_type": "markdown",
   "id": "02b6a781",
   "metadata": {},
   "source": [
    "Give some format to the lyrics"
   ]
  },
  {
   "cell_type": "code",
   "execution_count": 42,
   "id": "7bf462f8",
   "metadata": {},
   "outputs": [
    {
     "data": {
      "text/plain": [
       "['{\"lyrics\":\"Paroles de la chanson Clocks par Coldplay\\\\r\\\\nLights go out and I can\\'t be saved\\\\nTides that I tried to swim against\\\\nHave bought me down upon my knees\\\\nOh I beg, I beg and plead\\\\nSinging\\\\nCome out of things unsaid\\\\nShoot an apple off my head\\\\nAnd a trouble that can\\'t be named\\\\nA tiger\\'s waiting to be tamed\\\\nSinging\\\\nYou are\\\\nYou are\\\\nConfusion that never stops\\\\nThe closing walls and the ticking clocks\\\\nGonna come back and take you home\\\\nI could not stop, that you now know\\\\n\\\\nSinging come out upon my seas\\\\nCursed missed opportunities\\\\nAm I part of the cure\\\\nOr am I part of the disease\\\\nSinging\\\\nYou are,you are\\\\nYou are,you are\\\\nYou are,you are\\\\nYou are,you are\\\\nAnd nothing else compares\\\\nAnd nothing else compares\\\\nAnd nothing else compares\\\\nAnd nothing else compares\\\\nYou are,you are\\\\nHome, home, where I wanted to go\\\\nHome, home, where I wanted to go\\\\nHome, home, where I wanted to go(you are)\\\\nHome, home, where I wanted to go(you are)\"}',\n",
       " '{\"lyrics\":\"Hey Jude, don\\'t make it bad.\\\\r\\\\nTake a sad song and make it better.\\\\r\\\\nRemember to let her into your heart,\\\\r\\\\nThen you can start to make it better.\\\\r\\\\nHey Jude, don\\'t be afraid.\\\\n\\\\nYou were made to go out and get her.\\\\n\\\\nThe minute you let her under your skin,\\\\n\\\\nThen you begin to make it better.\\\\n\\\\n\\\\n\\\\nAnd anytime you feel the pain, hey Jude, refrain,\\\\n\\\\nDon\\'t carry the world upon your shoulders.\\\\n\\\\nFor well you know that it\\'s a fool who plays it cool\\\\n\\\\nBy making his world a little colder.\\\\n\\\\n\\\\n\\\\nHey Jude, don\\'t let me down.\\\\n\\\\nYou have found her, now go and get her.\\\\n\\\\nRemember to let her into your heart,\\\\n\\\\nThen you can start to make it better.\\\\n\\\\n\\\\n\\\\nSo let it out and let it in, hey Jude, begin,\\\\n\\\\nYou\\'re waiting for someone to perform with.\\\\n\\\\nAnd don\\'t you know that it\\'s just you, hey Jude, you\\'ll do,\\\\n\\\\nThe movement you need is on your shoulder.\\\\n\\\\n\\\\n\\\\nHey Jude, don\\'t make it bad.\\\\n\\\\nTake a sad song and make it better.\\\\n\\\\nRemember to let her under your skin,\\\\n\\\\nThen you\\'ll begin to make it\\\\n\\\\nBetter better better better better better, oh.\\\\n\\\\n\\\\n\\\\nNa na na nananana, nananana, hey Jude...\"}']"
      ]
     },
     "execution_count": 42,
     "metadata": {},
     "output_type": "execute_result"
    }
   ],
   "source": [
    "lyrics"
   ]
  },
  {
   "cell_type": "code",
   "execution_count": 32,
   "id": "0474c4a4",
   "metadata": {},
   "outputs": [
    {
     "ename": "SyntaxError",
     "evalue": "invalid syntax (<string>, line 1)",
     "output_type": "error",
     "traceback": [
      "Traceback \u001b[1;36m(most recent call last)\u001b[0m:\n",
      "  File \u001b[0;32m\"c:\\users\\mike\\appdata\\local\\programs\\python\\python39\\lib\\site-packages\\IPython\\core\\interactiveshell.py\"\u001b[0m, line \u001b[0;32m3437\u001b[0m, in \u001b[0;35mrun_code\u001b[0m\n    exec(code_obj, self.user_global_ns, self.user_ns)\n",
      "  File \u001b[0;32m\"<ipython-input-32-3d8bae044778>\"\u001b[0m, line \u001b[0;32m1\u001b[0m, in \u001b[0;35m<module>\u001b[0m\n    [eval(lyric)['lyrics'].split('\\r')[1].replace('\\n', ' ') for lyric in lyrics]\n",
      "\u001b[1;36m  File \u001b[1;32m\"<ipython-input-32-3d8bae044778>\"\u001b[1;36m, line \u001b[1;32m1\u001b[1;36m, in \u001b[1;35m<listcomp>\u001b[1;36m\u001b[0m\n\u001b[1;33m    [eval(lyric)['lyrics'].split('\\r')[1].replace('\\n', ' ') for lyric in lyrics]\u001b[0m\n",
      "\u001b[1;36m  File \u001b[1;32m\"<string>\"\u001b[1;36m, line \u001b[1;32m1\u001b[0m\n\u001b[1;33m    <!DOCTYPE HTML PUBLIC \"-//IETF//DTD HTML 2.0//EN\">\u001b[0m\n\u001b[1;37m    ^\u001b[0m\n\u001b[1;31mSyntaxError\u001b[0m\u001b[1;31m:\u001b[0m invalid syntax\n"
     ]
    }
   ],
   "source": [
    "[eval(lyric)['lyrics'].split('\\r')[1].replace('\\n', ' ') for lyric in lyrics] "
   ]
  }
 ],
 "metadata": {
  "kernelspec": {
   "display_name": "Python 3",
   "language": "python",
   "name": "python3"
  },
  "language_info": {
   "codemirror_mode": {
    "name": "ipython",
    "version": 3
   },
   "file_extension": ".py",
   "mimetype": "text/x-python",
   "name": "python",
   "nbconvert_exporter": "python",
   "pygments_lexer": "ipython3",
   "version": "3.9.5"
  }
 },
 "nbformat": 4,
 "nbformat_minor": 5
}
