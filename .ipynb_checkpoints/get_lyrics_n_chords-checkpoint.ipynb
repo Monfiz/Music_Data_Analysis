{
 "cells": [
  {
   "cell_type": "markdown",
   "id": "99b9864e",
   "metadata": {},
   "source": [
    "# Getting Lyrics & Chords"
   ]
  },
  {
   "cell_type": "code",
   "execution_count": 7,
   "id": "deece21b",
   "metadata": {},
   "outputs": [],
   "source": [
    "import requests"
   ]
  },
  {
   "cell_type": "markdown",
   "id": "b7c965cf",
   "metadata": {},
   "source": [
    "Function to retrieve lyric by artist and title from the [lyrics.ovh API](\n",
    "https://lyricsovh.docs.apiary.io/#reference/0/lyrics-of-a-song/search)"
   ]
  },
  {
   "cell_type": "code",
   "execution_count": 8,
   "id": "5c41ed26",
   "metadata": {},
   "outputs": [],
   "source": [
    "def get_lyrics(artist, title):\n",
    "\n",
    "    url = f'https://api.lyrics.ovh/v1/{artist}/{title}'\n",
    "\n",
    "    r = requests.get(url)\n",
    "\n",
    "    return r.text"
   ]
  },
  {
   "cell_type": "markdown",
   "id": "37eb4345",
   "metadata": {},
   "source": [
    "Retrieve the artists and titles combination"
   ]
  },
  {
   "cell_type": "code",
   "execution_count": 9,
   "id": "f4dc1e21",
   "metadata": {},
   "outputs": [],
   "source": [
    "artists = ['Coldplay', 'The Beatles']\n",
    "titles = ['Clocks', 'Hey Jude!']"
   ]
  },
  {
   "cell_type": "markdown",
   "id": "c0848508",
   "metadata": {},
   "source": [
    "Get the lyrics for each artist - title combination"
   ]
  },
  {
   "cell_type": "code",
   "execution_count": 10,
   "id": "7895932a",
   "metadata": {},
   "outputs": [],
   "source": [
    "lyrics = []\n",
    "\n",
    "for artist, title in zip(artists, titles):\n",
    "    lyrics.append(get_lyrics(artist, title))"
   ]
  },
  {
   "cell_type": "markdown",
   "id": "23490ef1",
   "metadata": {},
   "source": [
    "Give some format to the lyrics"
   ]
  },
  {
   "cell_type": "code",
   "execution_count": 26,
   "id": "1f5d5976",
   "metadata": {},
   "outputs": [
    {
     "data": {
      "text/plain": [
       "[\" Lights go out and I can't be saved Tides that I tried to swim against Have bought me down upon my knees Oh I beg, I beg and plead Singing Come out of things unsaid Shoot an apple off my head And a trouble that can't be named A tiger's waiting to be tamed Singing You are You are Confusion that never stops The closing walls and the ticking clocks Gonna come back and take you home I could not stop, that you now know  Singing come out upon my seas Cursed missed opportunities Am I part of the cure Or am I part of the disease Singing You are,you are You are,you are You are,you are You are,you are And nothing else compares And nothing else compares And nothing else compares And nothing else compares You are,you are Home, home, where I wanted to go Home, home, where I wanted to go Home, home, where I wanted to go(you are) Home, home, where I wanted to go(you are)\",\n",
       " \" Hey Jude, don't make it bad  Take a sad song and make it better  Remember to let her into your heart  Then you can start to make it better Hey Jude, don't be afraid  You were made to go out and get her  The minute you let her under your skin  Then you begin to make it better And any time you feel the pain, hey Jude, refrain  Don't carry the world upon your shoulders  For well you know that it's a fool who plays it cool  By making his world a little colder  Na na na na Hey Jude, don't let me down  You have found her now, go and get her  Remember to let her into your heart   Then you can start to make it better So let it out and let it in Hey Jude begin  You're waiting for someone to perform with  And don't you know that it's just you  Hey Jude, you'll do  The movement you need is on your shoulder  Na na na na Hey Jude, don't make it bad  Take a sad song and make it better  Remember to let her under your skin  Then you'll begin to make it better, better, better Na na na na na na na  Hey Jude\"]"
      ]
     },
     "execution_count": 26,
     "metadata": {},
     "output_type": "execute_result"
    }
   ],
   "source": [
    "[eval(lyric)['lyrics'].split('\\r')[1].replace('\\n', ' ') for lyric in lyrics] "
   ]
  }
 ],
 "metadata": {
  "kernelspec": {
   "display_name": "Python 3",
   "language": "python",
   "name": "python3"
  },
  "language_info": {
   "codemirror_mode": {
    "name": "ipython",
    "version": 3
   },
   "file_extension": ".py",
   "mimetype": "text/x-python",
   "name": "python",
   "nbconvert_exporter": "python",
   "pygments_lexer": "ipython3",
   "version": "3.9.5"
  }
 },
 "nbformat": 4,
 "nbformat_minor": 5
}
